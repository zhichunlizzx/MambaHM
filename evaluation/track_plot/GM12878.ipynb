{
 "cells": [
  {
   "cell_type": "code",
   "execution_count": null,
   "metadata": {
    "vscode": {
     "languageId": "plaintext"
    }
   },
   "outputs": [],
   "source": [
    "! pyGenomeTracks --dpi 2000 --tracks MambaHM/evaluation/track_plot/plot_GM12878.ini --region 1:117470740-117778130 -o MambaHM/evaluation/track_plot/GM12878.pdf"
   ]
  }
 ],
 "metadata": {
  "language_info": {
   "name": "python"
  }
 },
 "nbformat": 4,
 "nbformat_minor": 2
}
